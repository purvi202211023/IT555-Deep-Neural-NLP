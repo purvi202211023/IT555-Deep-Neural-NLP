{
  "nbformat": 4,
  "nbformat_minor": 0,
  "metadata": {
    "colab": {
      "provenance": [],
      "include_colab_link": true
    },
    "kernelspec": {
      "name": "python3",
      "display_name": "Python 3"
    },
    "language_info": {
      "name": "python"
    }
  },
  "cells": [
    {
      "cell_type": "markdown",
      "metadata": {
        "id": "view-in-github",
        "colab_type": "text"
      },
      "source": [
        "<a href=\"https://colab.research.google.com/github/purvi202211023/IT555-Deep-Neural-NLP/blob/Train-Word2Vec-on-peS2o-Dataset-(AllenNLP)-_Assignment1/Deep_Neural_NLP.ipynb\" target=\"_parent\"><img src=\"https://colab.research.google.com/assets/colab-badge.svg\" alt=\"Open In Colab\"/></a>"
      ]
    },
    {
      "cell_type": "code",
      "source": [
        "!pip install num2words\n",
        "import nltk\n",
        "from nltk.corpus import stopwords\n",
        "from nltk.tokenize import sent_tokenize, word_tokenize\n",
        "from sklearn.feature_extraction.text import TfidfVectorizer\n",
        "import re\n",
        "import inflect\n",
        "import pandas as pd\n",
        "import numpy as np\n",
        "from num2words import num2words  # For numerical-to-text conversion"
      ],
      "metadata": {
        "colab": {
          "base_uri": "https://localhost:8080/"
        },
        "id": "kT5YvJirBr49",
        "outputId": "4d475f9a-24f3-45a3-c697-4fe6551cf639"
      },
      "execution_count": null,
      "outputs": [
        {
          "output_type": "stream",
          "name": "stdout",
          "text": [
            "Requirement already satisfied: num2words in /usr/local/lib/python3.10/dist-packages (0.5.12)\n",
            "Requirement already satisfied: docopt>=0.6.2 in /usr/local/lib/python3.10/dist-packages (from num2words) (0.6.2)\n"
          ]
        }
      ]
    },
    {
      "cell_type": "code",
      "source": [
        "# Download necessary NLTK data\n",
        "nltk.download('punkt')\n",
        "nltk.download('stopwords')"
      ],
      "metadata": {
        "colab": {
          "base_uri": "https://localhost:8080/"
        },
        "id": "mrc-ekuiBudf",
        "outputId": "0521b027-2cf0-4dae-a9b8-700fff7d6c1a"
      },
      "execution_count": null,
      "outputs": [
        {
          "output_type": "stream",
          "name": "stderr",
          "text": [
            "[nltk_data] Downloading package punkt to /root/nltk_data...\n",
            "[nltk_data]   Package punkt is already up-to-date!\n",
            "[nltk_data] Downloading package stopwords to /root/nltk_data...\n",
            "[nltk_data]   Package stopwords is already up-to-date!\n"
          ]
        },
        {
          "output_type": "execute_result",
          "data": {
            "text/plain": [
              "True"
            ]
          },
          "metadata": {},
          "execution_count": 5
        }
      ]
    },
    {
      "cell_type": "code",
      "source": [
        "from google.colab import drive\n",
        "drive.mount('/content/drive')"
      ],
      "metadata": {
        "colab": {
          "base_uri": "https://localhost:8080/"
        },
        "id": "KTVXbrn5BN1b",
        "outputId": "8e02f9b2-051a-4281-d21e-5190fca66c04"
      },
      "execution_count": null,
      "outputs": [
        {
          "output_type": "stream",
          "name": "stdout",
          "text": [
            "Mounted at /content/drive\n"
          ]
        }
      ]
    },
    {
      "cell_type": "code",
      "execution_count": null,
      "metadata": {
        "id": "yLCdcQLd9kat"
      },
      "outputs": [],
      "source": [
        "# Load the training data\n",
        "df_train_n = pd.read_pickle(\"/content/drive/MyDrive/NLP/train_data_n.pkl\")\n",
        "\n",
        "# Load the test data\n",
        "df_test_n = pd.read_pickle(\"/content/drive/MyDrive/NLP/test_data_n.pkl\")"
      ]
    },
    {
      "cell_type": "code",
      "source": [
        "# combined_df = pd.concat([df_train_n, df_test_n], ignore_index=True)\n",
        "# combined_df"
      ],
      "metadata": {
        "id": "DgdyvL5KE-tS"
      },
      "execution_count": null,
      "outputs": []
    },
    {
      "cell_type": "code",
      "source": [
        "\n",
        "# Create an inflect engine for number-to-text conversion\n",
        "p = inflect.engine()\n",
        "\n",
        "def preprocess_text(text):\n",
        "    # Convert text to lowercase\n",
        "    text = text.lower()\n",
        "\n",
        "    # Remove URLs\n",
        "    text = re.sub(r'http\\S+|www\\S+|https\\S+', '', text, flags=re.MULTILINE)\n",
        "\n",
        "    # Remove bullets\n",
        "    text = re.sub(r'\\u2022', '', text)\n",
        "\n",
        "    # Handle apostrophe\n",
        "    text = re.sub(r\"\\'s\", \" is\", text)\n",
        "    text = re.sub(r\"\\'ve\", \" have\", text)\n",
        "    text = re.sub(r\"can't\", \"cannot\", text)\n",
        "    text = re.sub(r\"n't\", \" not\", text)\n",
        "    text = re.sub(r\"\\'re\", \" are\", text)\n",
        "    text = re.sub(r\"\\'d\", \" would\", text)\n",
        "    text = re.sub(r\"\\'ll\", \" will\", text)\n",
        "\n",
        "    # Handle hyphens\n",
        "    text = text.replace(\"-\", \" \")\n",
        "\n",
        "    # Handle enumerations\n",
        "    text = re.sub(r'\\(i\\)|\\(ii\\)|\\(iii\\)|\\(iv\\)|\\(v\\)|\\(vi\\)|\\(vii\\)|\\(viii\\)|\\(ix\\)|\\(x\\)', '', text)\n",
        "\n",
        "    # Convert numbers to text\n",
        "    text = ' '.join([p.number_to_words(word) if bool(re.search(r'\\d', word)) else word for word in text.split()])\n",
        "\n",
        "    # Remove punctuations\n",
        "    text = re.sub(r'[^\\w\\s]', '', text)\n",
        "\n",
        "    # Tokenize and remove stopwords\n",
        "    tokens = word_tokenize(text)\n",
        "    tokens = [word for word in tokens if word.lower() not in stopwords.words('english')]\n",
        "\n",
        "    return ' '.join(tokens)\n",
        "\n",
        "# Tokenize the text in df_train into sentences\n",
        "sentences_train = [sent_tokenize(text) for text in df_train_n['text']]\n",
        "sentences_train = [sentence for sublist in sentences_train for sentence in sublist]  # Flatten the list\n",
        "\n",
        "# Apply the pre-processing function to each sentence\n",
        "processed_sentences = [preprocess_text(sentence) for sentence in sentences_train]\n",
        "\n",
        "processed_sentences[:5]  # Display first 5 processed sentences\n"
      ],
      "metadata": {
        "colab": {
          "base_uri": "https://localhost:8080/"
        },
        "id": "9EyLAiVdCzMt",
        "outputId": "daa4f4e4-13e2-4d5e-bcf9-be99a9fb2c17"
      },
      "execution_count": null,
      "outputs": [
        {
          "output_type": "execute_result",
          "data": {
            "text/plain": [
              "['automatic question generation five one open domain indonesian questions using syntactical template based features academic textbooks measuring education quality school conducted delivering examination students',\n",
              " 'composing questions examination process measure students achievement school teaching learning process difficult time consuming',\n",
              " 'solve problem research proposes automatic question generation aqg method generate open domain indonesian question using syntactical approach',\n",
              " 'open domain questions questions covering many domains knowledge',\n",
              " 'challenge generating questions identify types declarative sentences potential transformed questions develop method generating question automatically']"
            ]
          },
          "metadata": {},
          "execution_count": 9
        }
      ]
    },
    {
      "cell_type": "code",
      "source": [
        "def check_for_numbers(processed_sentences):\n",
        "    sentences_with_numbers = [sentence for sentence in processed_sentences if bool(re.search(r'\\d', sentence))]\n",
        "    return sentences_with_numbers\n",
        "\n",
        "# Using the function\n",
        "sentences_with_numbers = check_for_numbers(processed_sentences)\n",
        "\n",
        "if sentences_with_numbers:\n",
        "    print(f\"Found {len(sentences_with_numbers)} sentences with numbers:\")\n",
        "    for sent in sentences_with_numbers:\n",
        "        print(sent)\n",
        "else:\n",
        "    print(\"No numbers found in the processed sentences!\")\n"
      ],
      "metadata": {
        "colab": {
          "base_uri": "https://localhost:8080/"
        },
        "id": "DRh7Yi3J45zS",
        "outputId": "0c47a61c-2648-45cb-bfbe-3c9669b8a5ff"
      },
      "execution_count": null,
      "outputs": [
        {
          "output_type": "stream",
          "name": "stdout",
          "text": [
            "No numbers found in the processed sentences!\n"
          ]
        }
      ]
    },
    {
      "cell_type": "code",
      "source": [
        "len(processed_sentences)"
      ],
      "metadata": {
        "colab": {
          "base_uri": "https://localhost:8080/"
        },
        "id": "lZ-06b0WD_Pm",
        "outputId": "db050923-b23f-45fa-fa37-b3b5ec20f587"
      },
      "execution_count": null,
      "outputs": [
        {
          "output_type": "execute_result",
          "data": {
            "text/plain": [
              "26755"
            ]
          },
          "metadata": {},
          "execution_count": 11
        }
      ]
    },
    {
      "cell_type": "code",
      "source": [
        "# # Function to apply all preprocessing steps\n",
        "# def preprocess_text(text):\n",
        "#     # Convert text to lowercase\n",
        "#     text = text.lower()\n",
        "\n",
        "#     # Remove URLs\n",
        "#     text = re.sub(r'http\\S+', '', text)\n",
        "\n",
        "#     # Remove bullets and enumerations\n",
        "#     text = re.sub(r'•|\\d+\\.', '', text)\n",
        "\n",
        "#     # Remove apostrophes\n",
        "#     text = re.sub(r\"([’'‘’])\", '', text)\n",
        "\n",
        "#     # Remove hyphens\n",
        "#     text = re.sub(r\"-\", ' ', text)\n",
        "\n",
        "#     # Convert numerical digits to text\n",
        "#     text = ' '.join([num2words(word) if word.isdigit() else word for word in text.split()])\n",
        "\n",
        "#     # Tokenize the text\n",
        "#     tokens = word_tokenize(text)\n",
        "\n",
        "#     # Remove stopwords\n",
        "#     stop_words = set(stopwords.words('english'))\n",
        "#     tokens = [word for word in tokens if word.lower() not in stop_words]\n",
        "\n",
        "#     # Remove punctuation\n",
        "#     tokens = [word for word in tokens if word.isalnum()]\n",
        "\n",
        "#     # Join tokens back into a single string\n",
        "#     text = ' '.join(tokens)\n",
        "\n",
        "#     return text\n",
        "\n",
        "# # Apply the preprocessing function to the \"text\" column\n",
        "# combined_df['text'] = combined_df['text'].apply(preprocess_text)\n",
        "\n",
        "# # Print the preprocessed DataFrame\n",
        "# print(combined_df)"
      ],
      "metadata": {
        "id": "8ckDc0VGG9iz"
      },
      "execution_count": null,
      "outputs": []
    },
    {
      "cell_type": "code",
      "source": [
        "# Initialize the TF-IDF vectorizer\n",
        "tfidf_vectorizer = TfidfVectorizer()\n",
        "\n",
        "# Fit the vectorizer to the training data and transform it to create the context matrix\n",
        "context_matrix_train = tfidf_vectorizer.fit_transform(processed_sentences)\n"
      ],
      "metadata": {
        "id": "Xix9HYAwI1Jj"
      },
      "execution_count": null,
      "outputs": []
    },
    {
      "cell_type": "code",
      "source": [
        "tfidf_feature_names = tfidf_vectorizer.get_feature_names_out()"
      ],
      "metadata": {
        "id": "Do9PSYczKuTq"
      },
      "execution_count": null,
      "outputs": []
    },
    {
      "cell_type": "code",
      "source": [
        "# Convert the TF-IDF context matrix to a DataFrame for easier viewing\n",
        "context_matrix_train_df = pd.DataFrame(context_matrix_train.toarray(), columns=tfidf_vectorizer.get_feature_names_out())\n",
        "\n",
        "# Display the DataFrame\n",
        "print(context_matrix_train_df)"
      ],
      "metadata": {
        "colab": {
          "base_uri": "https://localhost:8080/"
        },
        "id": "126We2PUKj6y",
        "outputId": "9d5dbb52-d3af-46c2-c4ba-eb877acca6e5"
      },
      "execution_count": null,
      "outputs": [
        {
          "output_type": "stream",
          "name": "stdout",
          "text": [
            "       ____________________________________________   aa  aaa  aaai  aaate  \\\n",
            "0                                               0.0  0.0  0.0   0.0    0.0   \n",
            "1                                               0.0  0.0  0.0   0.0    0.0   \n",
            "2                                               0.0  0.0  0.0   0.0    0.0   \n",
            "3                                               0.0  0.0  0.0   0.0    0.0   \n",
            "4                                               0.0  0.0  0.0   0.0    0.0   \n",
            "...                                             ...  ...  ...   ...    ...   \n",
            "26750                                           0.0  0.0  0.0   0.0    0.0   \n",
            "26751                                           0.0  0.0  0.0   0.0    0.0   \n",
            "26752                                           0.0  0.0  0.0   0.0    0.0   \n",
            "26753                                           0.0  0.0  0.0   0.0    0.0   \n",
            "26754                                           0.0  0.0  0.0   0.0    0.0   \n",
            "\n",
            "       aab  aachen  aacr  aals  aalto  ...  ﬁnally  ﬁnd  ﬁndings  ﬁnite  \\\n",
            "0      0.0     0.0   0.0   0.0    0.0  ...     0.0  0.0      0.0    0.0   \n",
            "1      0.0     0.0   0.0   0.0    0.0  ...     0.0  0.0      0.0    0.0   \n",
            "2      0.0     0.0   0.0   0.0    0.0  ...     0.0  0.0      0.0    0.0   \n",
            "3      0.0     0.0   0.0   0.0    0.0  ...     0.0  0.0      0.0    0.0   \n",
            "4      0.0     0.0   0.0   0.0    0.0  ...     0.0  0.0      0.0    0.0   \n",
            "...    ...     ...   ...   ...    ...  ...     ...  ...      ...    ...   \n",
            "26750  0.0     0.0   0.0   0.0    0.0  ...     0.0  0.0      0.0    0.0   \n",
            "26751  0.0     0.0   0.0   0.0    0.0  ...     0.0  0.0      0.0    0.0   \n",
            "26752  0.0     0.0   0.0   0.0    0.0  ...     0.0  0.0      0.0    0.0   \n",
            "26753  0.0     0.0   0.0   0.0    0.0  ...     0.0  0.0      0.0    0.0   \n",
            "26754  0.0     0.0   0.0   0.0    0.0  ...     0.0  0.0      0.0    0.0   \n",
            "\n",
            "       ﬁniteclass  ﬁre  ﬁrst  ﬁve  ﬂight  ﬂows  \n",
            "0             0.0  0.0   0.0  0.0    0.0   0.0  \n",
            "1             0.0  0.0   0.0  0.0    0.0   0.0  \n",
            "2             0.0  0.0   0.0  0.0    0.0   0.0  \n",
            "3             0.0  0.0   0.0  0.0    0.0   0.0  \n",
            "4             0.0  0.0   0.0  0.0    0.0   0.0  \n",
            "...           ...  ...   ...  ...    ...   ...  \n",
            "26750         0.0  0.0   0.0  0.0    0.0   0.0  \n",
            "26751         0.0  0.0   0.0  0.0    0.0   0.0  \n",
            "26752         0.0  0.0   0.0  0.0    0.0   0.0  \n",
            "26753         0.0  0.0   0.0  0.0    0.0   0.0  \n",
            "26754         0.0  0.0   0.0  0.0    0.0   0.0  \n",
            "\n",
            "[26755 rows x 34176 columns]\n"
          ]
        }
      ]
    },
    {
      "cell_type": "markdown",
      "source": [
        "multiply matrix with hot vector"
      ],
      "metadata": {
        "id": "msaTL6qLgwCZ"
      }
    },
    {
      "cell_type": "code",
      "source": [
        "from gensim.models import Word2Vec\n",
        "\n",
        "# # Tokenize the sentences in your preprocessed training data\n",
        "tokenized_sentences = [sentence.split() for sentence in processed_sentences]\n",
        "\n",
        "# # Set Word2Vec hyperparameters\n",
        "# vector_size = 100  # Adjust the vector size as needed\n",
        "# window = 5  # Adjust the context window size as needed\n",
        "# min_count = 1  # Minimum word count, adjust as needed\n",
        "# sg = 0  # Use CBOW (Continuous Bag of Words) model, set to 1 for Skip-gram\n",
        "\n",
        "# # Initialize and train the Word2Vec model\n",
        "# word2vec_model = Word2Vec(tokenized_sentences, vector_size=vector_size, window=window, min_count=min_count, sg=sg)\n"
      ],
      "metadata": {
        "id": "nVZYUUDLX-PR"
      },
      "execution_count": null,
      "outputs": []
    },
    {
      "cell_type": "code",
      "source": [
        "model = Word2Vec(sentences=tokenized_sentences, vector_size=100, window=5, min_count=1, workers=4)\n",
        "model.train(tokenized_sentences, total_examples=len(tokenized_sentences), epochs=100)"
      ],
      "metadata": {
        "id": "5EuCOTdVBjSL",
        "colab": {
          "base_uri": "https://localhost:8080/"
        },
        "outputId": "ca8d7f20-bc15-4878-d207-64722bc720da"
      },
      "execution_count": null,
      "outputs": [
        {
          "output_type": "stream",
          "name": "stderr",
          "text": [
            "WARNING:gensim.models.word2vec:Effective 'alpha' higher than previous training cycles\n"
          ]
        },
        {
          "output_type": "execute_result",
          "data": {
            "text/plain": [
              "(42525574, 43777600)"
            ]
          },
          "metadata": {},
          "execution_count": 17
        }
      ]
    },
    {
      "cell_type": "code",
      "source": [
        "def tfidf_weighted_word2vec_optimized(tfidf_matrix, tfidf_feature_names, w2v_model):\n",
        "    # Precompute word embeddings for all the vocabulary words\n",
        "    word_embeddings = {word: w2v_model.wv[word] for word in tfidf_feature_names if word in w2v_model.wv}\n",
        "\n",
        "    # Convert word embeddings to a matrix form\n",
        "    embedding_matrix = np.zeros((len(tfidf_feature_names), w2v_model.vector_size))\n",
        "    for i, word in enumerate(tfidf_feature_names):\n",
        "        if word in word_embeddings:\n",
        "            embedding_matrix[i] = word_embeddings[word]\n",
        "\n",
        "    # Use matrix multiplication to get the document embeddings\n",
        "    doc_embeddings = tfidf_matrix.dot(embedding_matrix)\n",
        "\n",
        "    return doc_embeddings"
      ],
      "metadata": {
        "id": "yFvH6_Tl5rmb"
      },
      "execution_count": null,
      "outputs": []
    },
    {
      "cell_type": "code",
      "source": [
        "doc_embeddings = tfidf_weighted_word2vec_optimized(context_matrix_train, tfidf_feature_names, model)\n",
        "print(doc_embeddings)"
      ],
      "metadata": {
        "colab": {
          "base_uri": "https://localhost:8080/"
        },
        "id": "gvBRN8mH5vX2",
        "outputId": "2dfad1ff-ea2c-4ce2-8b5c-4cd34063810f"
      },
      "execution_count": null,
      "outputs": [
        {
          "output_type": "stream",
          "name": "stdout",
          "text": [
            "[[ 2.94066365 -2.75991958  0.95635568 ...  2.65744452 -0.6219132\n",
            "   0.9912207 ]\n",
            " [ 2.73634839 -1.58208441  2.62256372 ...  2.13562283 -3.08488217\n",
            "   2.17031348]\n",
            " [ 0.54672254  1.95034883  1.82091232 ...  2.92333608 -3.38736684\n",
            "   2.28553392]\n",
            " ...\n",
            " [ 1.09904305 -1.94454739 -0.98970658 ...  1.34743741 -0.63324706\n",
            "   3.79796201]\n",
            " [ 0.28434048 -1.92747464 -0.99017892 ...  2.41962134  0.06745637\n",
            "   2.52433333]\n",
            " [-0.93884438  1.52266418 -0.58592448 ... -0.51001998 -0.82599182\n",
            "   4.80410532]]\n"
          ]
        }
      ]
    },
    {
      "cell_type": "code",
      "source": [
        "# Step 3: Create TF-IDF-weighted Word2Vec representations\n",
        "# def tfidf_weighted_word2vec(tfidf_matrix, tfidf_feature_names, w2v_model):\n",
        "#     doc_embeddings = []\n",
        "\n",
        "#     for doc_tfidf in tfidf_matrix:\n",
        "#         doc_embedding = np.zeros(w2v_model.vector_size)\n",
        "#         for word, weight in zip(tfidf_feature_names, doc_tfidf.toarray()[0]):\n",
        "#             if word in w2v_model.wv:\n",
        "#                 doc_embedding += weight * w2v_model.wv[word]\n",
        "#         doc_embeddings.append(doc_embedding)\n",
        "\n",
        "#     return np.array(doc_embeddings)\n",
        "\n",
        "# doc_embeddings = tfidf_weighted_word2vec(context_matrix_train, tfidf_feature_names, model)\n",
        "# print(doc_embeddings)"
      ],
      "metadata": {
        "id": "uGqSghkML92Y"
      },
      "execution_count": null,
      "outputs": []
    },
    {
      "cell_type": "markdown",
      "source": [
        "next time to testing"
      ],
      "metadata": {
        "id": "695TTOp_nKHC"
      }
    },
    {
      "cell_type": "code",
      "source": [],
      "metadata": {
        "id": "MlWxbjA1nN3G"
      },
      "execution_count": null,
      "outputs": []
    }
  ]
}